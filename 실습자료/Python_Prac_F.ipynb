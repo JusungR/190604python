{
 "cells": [
  {
   "cell_type": "markdown",
   "metadata": {},
   "source": [
    "# 실행해 볼까요?\n",
    "< 실행 : Ctrl + enter >"
   ]
  },
  {
   "cell_type": "code",
   "execution_count": 3,
   "metadata": {},
   "outputs": [
    {
     "name": "stdout",
     "output_type": "stream",
     "text": [
      "안녕하세요. Python을 실행해 보겠습니다!\n",
      "안녕하세요. Python을 실행해 보겠습니다!\n",
      "1 + 1 = 2\n"
     ]
    }
   ],
   "source": [
    "print('안녕하세요. Python을 실행해 보겠습니다!')\n",
    "print('안녕하세요.', 'Python을 실행해 보겠습니다!')\n",
    "print('1 + 1', '=', 1 + 1)"
   ]
  },
  {
   "cell_type": "markdown",
   "metadata": {},
   "source": [
    "=============================================================================="
   ]
  },
  {
   "cell_type": "markdown",
   "metadata": {},
   "source": [
    "Data Type 소개"
   ]
  },
  {
   "cell_type": "code",
   "execution_count": 8,
   "metadata": {},
   "outputs": [
    {
     "name": "stdout",
     "output_type": "stream",
     "text": [
      "a의 type은? <class 'int'>\n",
      "b의 type은? <class 'str'>\n",
      "string은 내부 character에 하나하나 접근이 가능해요 p n\n"
     ]
    }
   ],
   "source": [
    "# Data Type 소개\n",
    "\n",
    "# Integer\n",
    "a = 10\n",
    "print(\"a의 type은?\", type(a))\n",
    "\n",
    "# String\n",
    "b = 'python'\n",
    "print(\"b의 type은?\", type(b))\n",
    "print(\"string은 내부 character에 하나하나 접근이 가능해요\", b[0], b[5])"
   ]
  },
  {
   "cell_type": "code",
   "execution_count": 9,
   "metadata": {},
   "outputs": [
    {
     "ename": "IndexError",
     "evalue": "string index out of range",
     "output_type": "error",
     "traceback": [
      "\u001b[0;31m---------------------------------------------------------------------------\u001b[0m",
      "\u001b[0;31mIndexError\u001b[0m                                Traceback (most recent call last)",
      "\u001b[0;32m<ipython-input-9-bc75014dc0e1>\u001b[0m in \u001b[0;36m<module>\u001b[0;34m()\u001b[0m\n\u001b[0;32m----> 1\u001b[0;31m \u001b[0mprint\u001b[0m\u001b[0;34m(\u001b[0m\u001b[0mb\u001b[0m\u001b[0;34m[\u001b[0m\u001b[0;36m6\u001b[0m\u001b[0;34m]\u001b[0m\u001b[0;34m)\u001b[0m\u001b[0;34m\u001b[0m\u001b[0m\n\u001b[0m",
      "\u001b[0;31mIndexError\u001b[0m: string index out of range"
     ]
    }
   ],
   "source": [
    "print(b[6])"
   ]
  },
  {
   "cell_type": "code",
   "execution_count": 23,
   "metadata": {},
   "outputs": [
    {
     "name": "stdout",
     "output_type": "stream",
     "text": [
      "[1, 2, 534, '356', 'ab', '하하', 10, 'python', [5, -3]]\n",
      "[534, '356', 'ab', '하하', 10, 'python', [5, -3]]\n",
      "[1, 2, 534, '356']\n",
      "4\n"
     ]
    }
   ],
   "source": [
    "# List\n",
    "c = [1, 2, 534, '356', 'ab', '하하', a, b, [5, -3]]\n",
    "print(c)\n",
    "print(c[2:]) # index 2부터 ('이상')\n",
    "print(c[:4]) # index 4이전까지 ('미만')\n",
    "print(len(c[1:5]))"
   ]
  },
  {
   "cell_type": "code",
   "execution_count": 25,
   "metadata": {
    "scrolled": true
   },
   "outputs": [
    {
     "name": "stdout",
     "output_type": "stream",
     "text": [
      "[1, 2, 534, 'insert', 'ab', '하하', 10, 'python', [5, -3], '추가']\n",
      "[1, 2, 534, 'insert', 'ab', '하하', 10, 'python', [5, -3]]\n",
      "[1, 2, 534, 'ab', '하하', 10, 'python', [5, -3]]\n",
      "[1, 2, 534, 'insert', 'ab', '하하', 10, 'python', [5, -3]]\n",
      "['바꿀래', 2, 534, 'insert', 'ab', '하하', 10, 'python', [5, -3]]\n"
     ]
    }
   ],
   "source": [
    "c.append('추가')\n",
    "print(c)\n",
    "c.pop()\n",
    "print(c)\n",
    "c.pop(3)\n",
    "print(c)\n",
    "c.insert(3,'insert')\n",
    "print(c)\n",
    "c[0] = '바꿀래'\n",
    "print(c)"
   ]
  },
  {
   "cell_type": "code",
   "execution_count": 28,
   "metadata": {},
   "outputs": [
    {
     "name": "stdout",
     "output_type": "stream",
     "text": [
      "('1', 1, 3)\n"
     ]
    },
    {
     "ename": "TypeError",
     "evalue": "'tuple' object does not support item assignment",
     "output_type": "error",
     "traceback": [
      "\u001b[0;31m---------------------------------------------------------------------------\u001b[0m",
      "\u001b[0;31mTypeError\u001b[0m                                 Traceback (most recent call last)",
      "\u001b[0;32m<ipython-input-28-3046630f8aa6>\u001b[0m in \u001b[0;36m<module>\u001b[0;34m()\u001b[0m\n\u001b[1;32m      2\u001b[0m \u001b[0md\u001b[0m \u001b[0;34m=\u001b[0m \u001b[0;34m(\u001b[0m\u001b[0;34m'1'\u001b[0m\u001b[0;34m,\u001b[0m \u001b[0;36m1\u001b[0m\u001b[0;34m,\u001b[0m \u001b[0;36m3\u001b[0m\u001b[0;34m)\u001b[0m\u001b[0;34m\u001b[0m\u001b[0m\n\u001b[1;32m      3\u001b[0m \u001b[0mprint\u001b[0m\u001b[0;34m(\u001b[0m\u001b[0md\u001b[0m\u001b[0;34m)\u001b[0m\u001b[0;34m\u001b[0m\u001b[0m\n\u001b[0;32m----> 4\u001b[0;31m \u001b[0md\u001b[0m\u001b[0;34m[\u001b[0m\u001b[0;36m0\u001b[0m\u001b[0;34m]\u001b[0m \u001b[0;34m=\u001b[0m \u001b[0;36m5\u001b[0m\u001b[0;34m\u001b[0m\u001b[0m\n\u001b[0m",
      "\u001b[0;31mTypeError\u001b[0m: 'tuple' object does not support item assignment"
     ]
    }
   ],
   "source": [
    "# tuple\n",
    "d = ('1', 1, 3)\n",
    "print(d)\n",
    "d[0] = 5"
   ]
  },
  {
   "cell_type": "code",
   "execution_count": 33,
   "metadata": {},
   "outputs": [
    {
     "name": "stdout",
     "output_type": "stream",
     "text": [
      "{'a': 5, 'b': 6}\n",
      "5\n",
      "{'a': 5, 'b': 6, 'c': 8}\n"
     ]
    }
   ],
   "source": [
    "# dictionary\n",
    "e = {'a' : 5, 'b' : 6}\n",
    "print(e)\n",
    "print(e['a'])\n",
    "e['c'] = 8\n",
    "print(e)"
   ]
  },
  {
   "cell_type": "code",
   "execution_count": 35,
   "metadata": {},
   "outputs": [
    {
     "name": "stdout",
     "output_type": "stream",
     "text": [
      "True False\n",
      "False\n",
      "True\n"
     ]
    }
   ],
   "source": [
    "print(True, False)\n",
    "print(5 > 6)\n",
    "print(type('abc') == str)"
   ]
  },
  {
   "cell_type": "markdown",
   "metadata": {},
   "source": [
    "IF - ELIF - ELSE"
   ]
  },
  {
   "cell_type": "code",
   "execution_count": 36,
   "metadata": {},
   "outputs": [
    {
     "name": "stdout",
     "output_type": "stream",
     "text": [
      "50초과\n"
     ]
    }
   ],
   "source": [
    "A = 70\n",
    "\n",
    "if A > 50:\n",
    "    print('50초과')\n",
    "elif A > 30:\n",
    "    print('30초과')\n",
    "elif A > 10:\n",
    "    print('10초과')\n",
    "else:\n",
    "    print('10미만')"
   ]
  },
  {
   "cell_type": "code",
   "execution_count": 40,
   "metadata": {},
   "outputs": [
    {
     "name": "stdout",
     "output_type": "stream",
     "text": [
      "B는? 20\n",
      "B는? 20\n",
      "이래야 실행이 되겠죠!\n"
     ]
    }
   ],
   "source": [
    "B = 40 \n",
    "\n",
    "if B > 30:\n",
    "    B -= 20    # B = B - 20\n",
    "    print('B는?', B)\n",
    "elif B == 20:\n",
    "    print('실행 될까요 안될까요?')\n",
    "    \n",
    "B = 40 \n",
    "if B > 30:\n",
    "    B -= 20    # B = B - 20\n",
    "    print('B는?', B)\n",
    "if B == 20:\n",
    "    print('이래야 실행이 되겠죠!')"
   ]
  },
  {
   "cell_type": "code",
   "execution_count": 43,
   "metadata": {},
   "outputs": [
    {
     "name": "stdout",
     "output_type": "stream",
     "text": [
      "C는? 30\n",
      "C는 30보다 크지는 않아요..\n",
      "C는 A, B보다 작거나 같은 수인가봐요\n",
      "하지만 이건 실행됩니다!\n"
     ]
    }
   ],
   "source": [
    "A, B, C = 50, 40, 30\n",
    "\n",
    "if A > 30 and B > 30:\n",
    "    print(\"C는?\", C)\n",
    "    if C > 30:\n",
    "        print('C도 30보다 크네요!!')\n",
    "    else:\n",
    "        print('C는 30보다 크지는 않아요..')\n",
    "        if C > A or C > B: \n",
    "            print('C가 A 또는 B보다는 크군요!')\n",
    "        else:\n",
    "            print('C는 A, B보다 작거나 같은 수인가봐요')\n",
    "        if False:\n",
    "            print('이건 실행 안되겠죠!')\n",
    "        print('하지만 이건 실행됩니다!')\n",
    "                    "
   ]
  },
  {
   "cell_type": "markdown",
   "metadata": {},
   "source": [
    "FOR"
   ]
  },
  {
   "cell_type": "code",
   "execution_count": 55,
   "metadata": {},
   "outputs": [
    {
     "name": "stdout",
     "output_type": "stream",
     "text": [
      "0\n",
      "1\n",
      "2\n",
      "===================\n",
      "하하\n",
      "호호\n",
      "히히\n",
      "===================\n",
      "2\n",
      "4\n",
      "6\n",
      "8\n",
      "===================\n",
      "2\n",
      "4\n",
      "6\n",
      "8\n"
     ]
    }
   ],
   "source": [
    "for i in range(3):\n",
    "    print(i)\n",
    "print('===================')\n",
    "D = ['하하','호호', '히히']\n",
    "for j in D:\n",
    "    print(j)\n",
    "print('===================')  \n",
    "for k in range(2, 10, 2):\n",
    "    print(k)\n",
    "print('===================')\n",
    "for k in range(10):\n",
    "    if k != 0 and k%2 == 0:\n",
    "        print(k)"
   ]
  },
  {
   "cell_type": "code",
   "execution_count": 49,
   "metadata": {
    "scrolled": true
   },
   "outputs": [
    {
     "name": "stdout",
     "output_type": "stream",
     "text": [
      "1 x 1 = 1\n",
      "1 x 2 = 2\n",
      "1 x 3 = 3\n",
      "1 x 4 = 4\n",
      "1 x 5 = 5\n",
      "1 x 6 = 6\n",
      "1 x 7 = 7\n",
      "1 x 8 = 8\n",
      "1 x 9 = 9\n",
      "2 x 1 = 2\n",
      "2 x 2 = 4\n",
      "2 x 3 = 6\n",
      "2 x 4 = 8\n",
      "2 x 5 = 10\n",
      "2 x 6 = 12\n",
      "2 x 7 = 14\n",
      "2 x 8 = 16\n",
      "2 x 9 = 18\n",
      "3 x 1 = 3\n",
      "3 x 2 = 6\n",
      "3 x 3 = 9\n",
      "3 x 4 = 12\n",
      "3 x 5 = 15\n",
      "3 x 6 = 18\n",
      "3 x 7 = 21\n",
      "3 x 8 = 24\n",
      "3 x 9 = 27\n",
      "4 x 1 = 4\n",
      "4 x 2 = 8\n",
      "4 x 3 = 12\n",
      "4 x 4 = 16\n",
      "4 x 5 = 20\n",
      "4 x 6 = 24\n",
      "4 x 7 = 28\n",
      "4 x 8 = 32\n",
      "4 x 9 = 36\n",
      "5 x 1 = 5\n",
      "5 x 2 = 10\n",
      "5 x 3 = 15\n",
      "5 x 4 = 20\n",
      "5 x 5 = 25\n",
      "5 x 6 = 30\n",
      "5 x 7 = 35\n",
      "5 x 8 = 40\n",
      "5 x 9 = 45\n",
      "6 x 1 = 6\n",
      "6 x 2 = 12\n",
      "6 x 3 = 18\n",
      "6 x 4 = 24\n",
      "6 x 5 = 30\n",
      "6 x 6 = 36\n",
      "6 x 7 = 42\n",
      "6 x 8 = 48\n",
      "6 x 9 = 54\n",
      "7 x 1 = 7\n",
      "7 x 2 = 14\n",
      "7 x 3 = 21\n",
      "7 x 4 = 28\n",
      "7 x 5 = 35\n",
      "7 x 6 = 42\n",
      "7 x 7 = 49\n",
      "7 x 8 = 56\n",
      "7 x 9 = 63\n",
      "8 x 1 = 8\n",
      "8 x 2 = 16\n",
      "8 x 3 = 24\n",
      "8 x 4 = 32\n",
      "8 x 5 = 40\n",
      "8 x 6 = 48\n",
      "8 x 7 = 56\n",
      "8 x 8 = 64\n",
      "8 x 9 = 72\n",
      "9 x 1 = 9\n",
      "9 x 2 = 18\n",
      "9 x 3 = 27\n",
      "9 x 4 = 36\n",
      "9 x 5 = 45\n",
      "9 x 6 = 54\n",
      "9 x 7 = 63\n",
      "9 x 8 = 72\n",
      "9 x 9 = 81\n"
     ]
    }
   ],
   "source": [
    "# 간단 구구단\n",
    "\n",
    "for n in range(1, 10, 1):\n",
    "    for m in range(1, 10, 1):\n",
    "        print(n, 'x', m, '=', n*m)"
   ]
  },
  {
   "cell_type": "code",
   "execution_count": 52,
   "metadata": {},
   "outputs": [
    {
     "name": "stdout",
     "output_type": "stream",
     "text": [
      "[0, 1, 2]\n"
     ]
    }
   ],
   "source": [
    "print(list(range(3)))"
   ]
  },
  {
   "cell_type": "markdown",
   "metadata": {},
   "source": [
    "def"
   ]
  },
  {
   "cell_type": "code",
   "execution_count": 57,
   "metadata": {},
   "outputs": [
    {
     "name": "stdout",
     "output_type": "stream",
     "text": [
      "10 더하기 5는? 15\n",
      "10 빼기 2 나누기 4 곱하기 -1 더하기 8은? 6.0\n"
     ]
    }
   ],
   "source": [
    "# 사칙연산을 하고 싶어요...\n",
    "\n",
    "def ADD(a, b): return a + b\n",
    "def DIF(a, b): return a - b\n",
    "def MUL(a, b): return a * b\n",
    "def DIV(a, b): return a / b\n",
    "\n",
    "print('10 더하기 5는?', ADD(10, 5))\n",
    "print('10 빼기 2 나누기 4 곱하기 -1 더하기 8은?',\n",
    "     ADD(MUL(DIV(DIF(10, 2), 4), -1), 8))\n"
   ]
  },
  {
   "cell_type": "code",
   "execution_count": 63,
   "metadata": {},
   "outputs": [
    {
     "name": "stdout",
     "output_type": "stream",
     "text": [
      "5 + 2 - 4 = 3\n",
      "3\n"
     ]
    },
    {
     "ename": "NameError",
     "evalue": "name 'tmp' is not defined",
     "output_type": "error",
     "traceback": [
      "\u001b[0;31m---------------------------------------------------------------------------\u001b[0m",
      "\u001b[0;31mNameError\u001b[0m                                 Traceback (most recent call last)",
      "\u001b[0;32m<ipython-input-63-49711f087aac>\u001b[0m in \u001b[0;36m<module>\u001b[0;34m()\u001b[0m\n\u001b[1;32m     10\u001b[0m \u001b[0mprint\u001b[0m\u001b[0;34m(\u001b[0m\u001b[0ma\u001b[0m\u001b[0;34m)\u001b[0m\u001b[0;34m\u001b[0m\u001b[0m\n\u001b[1;32m     11\u001b[0m \u001b[0;34m\u001b[0m\u001b[0m\n\u001b[0;32m---> 12\u001b[0;31m \u001b[0mprint\u001b[0m\u001b[0;34m(\u001b[0m\u001b[0mtmp\u001b[0m\u001b[0;34m)\u001b[0m\u001b[0;34m\u001b[0m\u001b[0m\n\u001b[0m",
      "\u001b[0;31mNameError\u001b[0m: name 'tmp' is not defined"
     ]
    }
   ],
   "source": [
    "def SIMPLE_FUC(A, B, C, D = 1):\n",
    "    tmp = A + B\n",
    "    tmp -= C\n",
    "    if D == 1:\n",
    "        print(A, '+', B, '-', C, '=', A + B - C)\n",
    "    return tmp\n",
    "\n",
    "SIMPLE_FUC(5, 2, 4)\n",
    "a = SIMPLE_FUC(5, 2, 4, 0)\n",
    "print(a)\n",
    "    \n",
    "print(tmp)"
   ]
  },
  {
   "cell_type": "markdown",
   "metadata": {},
   "source": [
    "Library import"
   ]
  },
  {
   "cell_type": "code",
   "execution_count": 2,
   "metadata": {},
   "outputs": [],
   "source": [
    "# Library Load\n",
    "\n",
    "import numpy as np\n",
    "import pandas as pd\n",
    "from sklearn import linear_model\n",
    "from sklearn.tree import DecisionTreeClassifier\n",
    "from sklearn.ensemble import RandomForestClassifier, GradientBoostingClassifier\n"
   ]
  },
  {
   "cell_type": "markdown",
   "metadata": {},
   "source": [
    "Numpy"
   ]
  },
  {
   "cell_type": "code",
   "execution_count": 82,
   "metadata": {},
   "outputs": [
    {
     "name": "stdout",
     "output_type": "stream",
     "text": [
      "[[1 2 3]\n",
      " [4 5 6]]\n",
      "[[0. 0. 0.]\n",
      " [0. 0. 0.]\n",
      " [0. 0. 0.]\n",
      " [0. 0. 0.]\n",
      " [0. 0. 0.]]\n",
      "['abd']\n",
      "['1' 'abc']\n",
      "[[[2 3]\n",
      "  [4 5]]\n",
      "\n",
      " [[6 7]\n",
      "  [8 9]]]\n"
     ]
    }
   ],
   "source": [
    "np1 = np.array([[1, 2, 3], [4, 5, 6]])\n",
    "print(np1)\n",
    "np2 = np.zeros((5, 3))\n",
    "print(np2)\n",
    "np3 = np.array(['abd'])\n",
    "print(np3)\n",
    "np4 = np.array([1, 'abc'])\n",
    "print(np4)\n",
    "np5 = np.array([[[2, 3], [4, 5]],[[6,7],[8,9]]])\n",
    "print(np5)"
   ]
  },
  {
   "cell_type": "code",
   "execution_count": 91,
   "metadata": {},
   "outputs": [
    {
     "name": "stdout",
     "output_type": "stream",
     "text": [
      "6\n",
      "[[2 3]]\n",
      "[2]\n",
      "[[0. 0. 0.]\n",
      " [0. 0. 0.]\n",
      " [0. 0. 0.]\n",
      " [0. 5. 0.]\n",
      " [0. 0. 0.]]\n",
      "7\n"
     ]
    }
   ],
   "source": [
    "print(np1[1, 2])\n",
    "print(np1[:1,1:])\n",
    "print(np1[:1,1])\n",
    "np2[3, 1] = 5\n",
    "print(np2)\n",
    "print(np5[1,0,1])"
   ]
  },
  {
   "cell_type": "code",
   "execution_count": 90,
   "metadata": {},
   "outputs": [
    {
     "name": "stdout",
     "output_type": "stream",
     "text": [
      "[[1, 2, 3, 4], [4, 5, 6, 7]]\n",
      "[[1 2 3 4]\n",
      " [4 5 6 7]]\n",
      "(2, 4)\n"
     ]
    }
   ],
   "source": [
    "l1 = [1, 2, 3, 4]\n",
    "l2 = [4, 5, 6, 7]\n",
    "l_np = []\n",
    "l_np.append(l1)\n",
    "l_np.append(l2)\n",
    "print(l_np)\n",
    "l_np = np.asarray(l_np)\n",
    "print(l_np)\n",
    "print(l_np.shape)"
   ]
  },
  {
   "cell_type": "code",
   "execution_count": 99,
   "metadata": {},
   "outputs": [
    {
     "name": "stdout",
     "output_type": "stream",
     "text": [
      "(2, 4) (4,)\n",
      "(1, 4)\n",
      "[[ 1  2  3  4]\n",
      " [ 5  6  7  8]\n",
      " [ 9 10 11 12]] (3, 4)\n"
     ]
    }
   ],
   "source": [
    "np6 = np.array([[1, 2, 3, 4],[5, 6, 7, 8]])\n",
    "np7 = np.array([9, 10, 11, 12])\n",
    "\n",
    "# np8 = np.concatenate((np6, np7), axis = 0)\n",
    "print(np6.shape, np7.shape) \n",
    "np8 = np.concatenate((np6, np7.reshape(1,4)), axis = 0)\n",
    "print(np7.reshape(1,4).shape)\n",
    "print(np8, np8.shape)"
   ]
  },
  {
   "cell_type": "code",
   "execution_count": 110,
   "metadata": {},
   "outputs": [
    {
     "name": "stdout",
     "output_type": "stream",
     "text": [
      "(2, 4) (2,)\n",
      "(2, 1)\n",
      "[[ 0  1  2  3  9]\n",
      " [ 4  5  6  7 10]] (2, 5)\n"
     ]
    }
   ],
   "source": [
    "np6 = np.arange(8).reshape(2,4)\n",
    "np9 = np.array([9, 10])\n",
    "\n",
    "# np8 = np.concatenate((np6, np9), axis = 1)\n",
    "print(np6.shape, np9.shape) \n",
    "np10 = np.concatenate((np6, np9.reshape(2,-1)), axis = 1)\n",
    "print(np9.reshape(2,-1).shape)\n",
    "print(np10, np10.shape)"
   ]
  },
  {
   "cell_type": "code",
   "execution_count": 111,
   "metadata": {},
   "outputs": [
    {
     "name": "stdout",
     "output_type": "stream",
     "text": [
      "[[ 1  2  3]\n",
      " [-1  0  1]\n",
      " [-2  1  0]]\n",
      "[[ 0  2  1]\n",
      " [-1 -2  2]\n",
      " [ 2 -1  0]]\n",
      "===== 더하기 =====\n",
      "[[ 1  4  4]\n",
      " [-2 -2  3]\n",
      " [ 0  0  0]]\n",
      "===== 곱하기 =====\n",
      "[[ 0  4  3]\n",
      " [ 1  0  2]\n",
      " [-4 -1  0]]\n",
      "===== 행렬곱 =====\n",
      "[[ 4 -5  5]\n",
      " [ 2 -3 -1]\n",
      " [-1 -6  0]]\n",
      "=== Transpose ===\n",
      "[[ 1 -1 -2]\n",
      " [ 2  0  1]\n",
      " [ 3  1  0]]\n"
     ]
    }
   ],
   "source": [
    "np11 = np.array([[1, 2, 3], [-1, 0, 1], [-2, 1, 0]])\n",
    "np12 = np.array([[0, 2, 1], [-1, -2, 2], [2, -1, 0]])\n",
    "print(np11)\n",
    "print(np12)\n",
    "print('===== 더하기 =====')\n",
    "print(np11 + np12)\n",
    "print('===== 곱하기 =====')\n",
    "print(np11 * np12)\n",
    "print('===== 행렬곱 =====')\n",
    "print(np.dot(np11, np12))\n",
    "print('=== Transpose ===')\n",
    "print(np11.T)"
   ]
  },
  {
   "cell_type": "markdown",
   "metadata": {},
   "source": [
    "Pandas"
   ]
  },
  {
   "cell_type": "code",
   "execution_count": 149,
   "metadata": {},
   "outputs": [
    {
     "name": "stdout",
     "output_type": "stream",
     "text": [
      "   NO  구분   메뉴 친구1  친구2  친구3  만족도\n",
      "0   1  점심   라면  철수  NaN  NaN    5\n",
      "1   2  저녁   곱창  길동   동진   영희    1\n",
      "2   3  저녁   치킨  현지   보영  NaN    3\n",
      "3   4  아침   김밥  철수  NaN  NaN    4\n",
      "4   5  점심  샐러드  동기  NaN  NaN    1\n",
      "5   6  점심   라면  동진  NaN  NaN    1\n",
      "6   7  저녁   피자  지우  NaN  NaN    3\n",
      "7   8  점심  파스타  웅이   이슬  NaN    2\n",
      "8   9  저녁   보쌈  삼성  NaN  NaN    1\n",
      "9  10  저녁   곱창  길동   영희  NaN    5 <class 'pandas.core.frame.DataFrame'>\n",
      "=========================\n",
      "   col_1  col_2\n",
      "0      1      2\n",
      "1      3      4\n",
      "=========================\n",
      "   첫번째  두번째  세번째\n",
      "0    0    2    1\n",
      "1   -1   -2    2\n",
      "2    2   -1    0\n"
     ]
    }
   ],
   "source": [
    "prac_df = pd.read_csv('Pandas_prac.csv', encoding = 'cp949')\n",
    "print(prac_df, type(prac_df))\n",
    "# DataFrame Type\n",
    "print('=========================')\n",
    "prac_df_tmp = pd.DataFrame([[1,2], [3,4]], columns = ['col_1', 'col_2'])\n",
    "print(prac_df_tmp)\n",
    "print('=========================')\n",
    "prac_df_tmp2 = pd.DataFrame(np12, \n",
    "                            columns = ['첫번째', '두번째', '세번째'])\n",
    "print(prac_df_tmp2)                            \n"
   ]
  },
  {
   "cell_type": "code",
   "execution_count": 150,
   "metadata": {},
   "outputs": [
    {
     "name": "stdout",
     "output_type": "stream",
     "text": [
      "1    저녁\n",
      "2    저녁\n",
      "3    아침\n",
      "Name: 구분, dtype: object\n",
      "==================\n",
      "   NO  구분  메뉴 친구1 친구2  친구3  만족도\n",
      "1   2  저녁  곱창  길동  동진   영희    1\n",
      "9  10  저녁  곱창  길동  영희  NaN    5\n",
      "==================\n",
      "   구분  메뉴  만족도\n",
      "1  저녁  곱창    1\n",
      "5  점심  라면    1\n",
      "0    False\n",
      "1     True\n",
      "2    False\n",
      "3    False\n",
      "4    False\n",
      "5     True\n",
      "6    False\n",
      "7    False\n",
      "8    False\n",
      "9    False\n",
      "dtype: bool\n"
     ]
    }
   ],
   "source": [
    "print(prac_df['구분'][1:4])\n",
    "print('==================')\n",
    "print(prac_df[:][prac_df['메뉴'] == '곱창'])\n",
    "print('==================')\n",
    "print(prac_df[['구분', '메뉴', '만족도']][(prac_df['친구1'] == '동진') | (prac_df['친구2'] == '동진')]) \n",
    "\n",
    "# 참고\n",
    "print((prac_df['친구1'] == '동진') | (prac_df['친구2'] == '동진'))"
   ]
  },
  {
   "cell_type": "code",
   "execution_count": 151,
   "metadata": {},
   "outputs": [
    {
     "name": "stdout",
     "output_type": "stream",
     "text": [
      "['NO', '구분', '메뉴', '친구1', '친구2', '친구3', '만족도']\n",
      "   NO  구분   메뉴 친구1  친구2  친구3  만족도\n",
      "0   1   1   라면  철수  NaN  NaN    5\n",
      "1   2   2   곱창  길동   동진   영희    1\n",
      "2   3   2   치킨  현지   보영  NaN    3\n",
      "3   4   0   김밥  철수  NaN  NaN    4\n",
      "4   5   1  샐러드  동기  NaN  NaN    1\n",
      "5   6   1   라면  동진  NaN  NaN    1\n",
      "6   7   2   피자  지우  NaN  NaN    3\n",
      "7   8   1  파스타  웅이   이슬  NaN    2\n",
      "8   9   2   보쌈  삼성  NaN  NaN    1\n",
      "9  10   2   곱창  길동   영희  NaN    5\n",
      "   NO  구분   메뉴 친구1 친구2 친구3  만족도\n",
      "0   1   1   라면  철수            5\n",
      "1   2   2   곱창  길동  동진  영희    1\n",
      "2   3   2   치킨  현지  보영        3\n",
      "3   4   0   김밥  철수            4\n",
      "4   5   1  샐러드  동기            1\n",
      "5   6   1   라면  동진            1\n",
      "6   7   2   피자  지우            3\n",
      "7   8   1  파스타  웅이  이슬        2\n",
      "8   9   2   보쌈  삼성            1\n",
      "9  10   2   곱창  길동  영희        5\n",
      "    메뉴 친구1 친구2 친구3  만족도  구분_0  구분_1  구분_2\n",
      "0   라면  철수            5     0     1     0\n",
      "1   곱창  길동  동진  영희    1     0     0     1\n",
      "2   치킨  현지  보영        3     0     0     1\n",
      "3   김밥  철수            4     1     0     0\n",
      "4  샐러드  동기            1     0     1     0\n",
      "5   라면  동진            1     0     1     0\n",
      "6   피자  지우            3     0     0     1\n",
      "7  파스타  웅이  이슬        2     0     1     0\n",
      "8   보쌈  삼성            1     0     0     1\n",
      "9   곱창  길동  영희        5     0     0     1\n"
     ]
    }
   ],
   "source": [
    "# Columns\n",
    "prac_col = list(prac_df.columns)\n",
    "print(prac_col)\n",
    "\n",
    "# 한글 데이터 숫자로 치환\n",
    "prac_df['구분'] = prac_df.구분.map({'아침':0, '점심':1, '저녁': 2})\n",
    "print(prac_df)\n",
    "\n",
    "# fill in the missing values \n",
    "prac_df.친구2.fillna('', inplace=True) # Inplace = True면 데이터 자체 변경 \n",
    "prac_df.친구3.fillna('', inplace=True) # Inplace = False면 단지 결과를 Print\n",
    "print(prac_df)\n",
    "# create a DataFrame of dummy variables\n",
    "구분_dummies = pd.get_dummies(prac_df.구분, prefix='구분')\n",
    "\n",
    "# concatenate the original DataFrame and the dummy DataFrame\n",
    "prac_col.pop(0)\n",
    "prac_col.pop(0)\n",
    "prac_df= pd.concat([prac_df[prac_col], 구분_dummies], axis=1)\n",
    "print(prac_df)"
   ]
  },
  {
   "cell_type": "code",
   "execution_count": 65,
   "metadata": {},
   "outputs": [
    {
     "name": "stdout",
     "output_type": "stream",
     "text": [
      "False\n",
      "False\n"
     ]
    }
   ],
   "source": [
    "def solution1(array, commands):\n",
    "    answer = []\n",
    "    \n",
    "    # 참고로 list를 sort하는 방법은 list.sort()\n",
    "    # ex) a = [3, 4, 1, 5]\n",
    "    # a.sort()\n",
    "    # print(a) --> [1, 3, 4, 5]\n",
    "    \n",
    "    return answer\n",
    "\n",
    "array1 = [1, 5, 2, 6, 3, 7, 4]\n",
    "commands1 = [[2, 5, 3], [4, 4, 1], [1, 7, 3]]\n",
    "answer1 = [5, 6, 3]\n",
    "print(solution1(array1, commands1) == answer1)\n",
    "\n",
    "array2 = [0, -2, 5, 7, 8, 2, 5, 9, 3, 1, 5]\n",
    "commands2 = [[1, 5, 2], [2, 8, 1], [5, 10, 3]]\n",
    "answer2 = [-2, -2, 3]\n",
    "print(solution1(array2, commands2) == answer2)\n"
   ]
  },
  {
   "cell_type": "code",
   "execution_count": 67,
   "metadata": {},
   "outputs": [
    {
     "name": "stdout",
     "output_type": "stream",
     "text": [
      "False\n",
      "False\n"
     ]
    }
   ],
   "source": [
    "def solution2(arrangement):\n",
    "    answer = 0\n",
    "    \n",
    "    # 이문제는 연속한 쌍이 어떤지가 중요합니다\n",
    "    # 잘고민해보세요!\n",
    "    \n",
    "    return answer\n",
    "\n",
    "arrangement1 = \"()(((()())(())()))(())\"\n",
    "answer1 = 17\n",
    "print(solution2(arrangement1) == answer1)\n",
    "\n",
    "arrangement2 = \"(((()()()(()())((())))()())())\"\n",
    "answer2 = 33\n",
    "print(solution2(arrangement2) == answer2)"
   ]
  }
 ],
 "metadata": {
  "kernelspec": {
   "display_name": "Python 3",
   "language": "python",
   "name": "python3"
  },
  "language_info": {
   "codemirror_mode": {
    "name": "ipython",
    "version": 3
   },
   "file_extension": ".py",
   "mimetype": "text/x-python",
   "name": "python",
   "nbconvert_exporter": "python",
   "pygments_lexer": "ipython3",
   "version": "3.6.4"
  }
 },
 "nbformat": 4,
 "nbformat_minor": 2
}
