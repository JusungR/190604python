{
 "cells": [
  {
   "cell_type": "code",
   "execution_count": 7,
   "metadata": {},
   "outputs": [
    {
     "name": "stdout",
     "output_type": "stream",
     "text": [
      "True\n",
      "True\n"
     ]
    }
   ],
   "source": [
    "def solution1(array, commands):\n",
    "    answer = []\n",
    "    for C in commands:\n",
    "        tmp_arr = array[C[0]-1:C[1]]\n",
    "        tmp_arr.sort()\n",
    "        answer.append(tmp_arr[C[2]-1])\n",
    "    return answer\n",
    "\n",
    "array1 = [1, 5, 2, 6, 3, 7, 4]\n",
    "commands1 = [[2, 5, 3], [4, 4, 1], [1, 7, 3]]\n",
    "answer1 = [5, 6, 3]\n",
    "print(solution1(array1, commands1) == answer1)\n",
    "\n",
    "array2 = [0, -2, 5, 7, 8, 2, 5, 9, 3, 1, 5]\n",
    "commands2 = [[1, 5, 2], [2, 8, 1], [5, 10, 3]]\n",
    "answer2 = [0, -2, 3]\n",
    "print(solution1(array2, commands2) == answer2)"
   ]
  },
  {
   "cell_type": "code",
   "execution_count": 4,
   "metadata": {},
   "outputs": [
    {
     "name": "stdout",
     "output_type": "stream",
     "text": [
      "True\n",
      "True\n"
     ]
    }
   ],
   "source": [
    "def solution2(arrangement):\n",
    "    answer = 0\n",
    "    stack = ')'\n",
    "    bar = 0\n",
    "    for par in arrangement:\n",
    "        if stack == '(':\n",
    "            if par == '(':\n",
    "                bar += 1\n",
    "            else:\n",
    "                answer += bar\n",
    "            stack = par\n",
    "        else:\n",
    "            if par == '(':\n",
    "                pass\n",
    "            else:\n",
    "                bar -= 1\n",
    "                answer += 1\n",
    "            stack = par\n",
    "    return answer\n",
    "\n",
    "arrangement1 = \"()(((()())(())()))(())\"\n",
    "answer1 = 17\n",
    "print(solution2(arrangement1) == answer1)\n",
    "\n",
    "arrangement2 = \"(((()()()(()())((())))()())())\"\n",
    "answer2 = 33\n",
    "print(solution2(arrangement2) == answer2)"
   ]
  }
 ],
 "metadata": {
  "kernelspec": {
   "display_name": "Python 3",
   "language": "python",
   "name": "python3"
  },
  "language_info": {
   "codemirror_mode": {
    "name": "ipython",
    "version": 3
   },
   "file_extension": ".py",
   "mimetype": "text/x-python",
   "name": "python",
   "nbconvert_exporter": "python",
   "pygments_lexer": "ipython3",
   "version": "3.6.4"
  }
 },
 "nbformat": 4,
 "nbformat_minor": 2
}
