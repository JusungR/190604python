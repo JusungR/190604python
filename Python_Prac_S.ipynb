{
 "cells": [
  {
   "cell_type": "markdown",
   "metadata": {},
   "source": [
    "# 실습!"
   ]
  },
  {
   "cell_type": "code",
   "execution_count": 2,
   "metadata": {},
   "outputs": [],
   "source": [
    "# Library Load\n",
    "\n",
    "import numpy as np\n",
    "import pandas as pd\n",
    "from sklearn import linear_model\n",
    "from sklearn.tree import DecisionTreeClassifier\n",
    "from sklearn.ensemble import RandomForestClassifier, GradientBoostingClassifier\n"
   ]
  },
  {
   "cell_type": "markdown",
   "metadata": {},
   "source": [
    "Data Load"
   ]
  },
  {
   "cell_type": "code",
   "execution_count": null,
   "metadata": {},
   "outputs": [],
   "source": [
    "# 데이터 불러오기\n",
    "bank_df_raw = pd.read_csv('bank-full.csv', encoding = 'cp949')\n",
    "\n",
    "# 데이터 확인\n",
    "bank_col = list(bank_df_raw.columns)\n",
    "print(bank_df_raw.head(), bank_df_raw.shape, '\\n ================================')\n",
    "\n",
    "# 결측값 확인 \n",
    "# 만약 결측값이 있다면 fillna 명령어로 채워주는거 필수!\n",
    "for i in bank_col:\n",
    "    print(bank_df_raw[i][bank_df_raw[i].isna()])\n",
    "print('================================')\n",
    "    \n",
    "# 데이터 확인\n",
    "# distinct 명령어와 동일 개념\n",
    "for i in bank_col:\n",
    "    print(bank_df_raw[i].unique())\n"
   ]
  },
  {
   "cell_type": "markdown",
   "metadata": {},
   "source": [
    "string to int\n",
    "(학습 시킬때 문자 인식x)"
   ]
  },
  {
   "cell_type": "code",
   "execution_count": 28,
   "metadata": {},
   "outputs": [
    {
     "name": "stdout",
     "output_type": "stream",
     "text": [
      "   age  job  marital  education  default  balance  housing  loan  contact  \\\n",
      "0   58    0        1          0        0     2143        1     0        0   \n",
      "1   44    1        0          1        0       29        1     0        0   \n",
      "2   33    2        1          1        0        2        1     1        0   \n",
      "3   47    3        1          2        0     1506        1     0        0   \n",
      "4   33    4        0          2        0        1        0     0        0   \n",
      "\n",
      "   day  month  duration  campaign  pdays  previous  poutcome  y  \n",
      "0    5      4       261         1    871         0         0  0  \n",
      "1    5      4       151         1    871         0         0  0  \n",
      "2    5      4        76         1    871         0         0  0  \n",
      "3    5      4        92         1    871         0         0  0  \n",
      "4    5      4       198         1    871         0         0  0  \n"
     ]
    },
    {
     "name": "stderr",
     "output_type": "stream",
     "text": [
      "/product/anaconda/anaconda3/lib/python3.6/site-packages/ipykernel_launcher.py:10: SettingWithCopyWarning: \n",
      "A value is trying to be set on a copy of a slice from a DataFrame\n",
      "\n",
      "See the caveats in the documentation: http://pandas.pydata.org/pandas-docs/stable/indexing.html#indexing-view-versus-copy\n",
      "  # Remove the CWD from sys.path while we load stuff.\n"
     ]
    }
   ],
   "source": [
    "bank_df_raw.job.replace(['management', 'technician', 'entrepreneur', 'blue-collar', 'unknown',\n",
    " 'retired', 'admin.', 'services', 'self-employed', 'unemployed', 'housemaid', 'student'],\n",
    "                       [0, 1, 2, 3, 4, 5, 6, 7, 8, 9, 10, 11], inplace = True)\n",
    "bank_df_raw.marital.replace(['single', 'married', 'divorced'], [0, 1, 2], inplace = True)\n",
    "bank_df_raw.education.replace(['tertiary', 'secondary', 'unknown', 'primary'], [0, 1, 2, 3], inplace = True)\n",
    "bank_df_raw.month.replace(['jan', 'feb', 'mar', 'apr', 'may', 'jun', 'jul', 'aug', 'sep', 'oct', 'nov', 'dec'], \n",
    "                          [0, 1, 2, 3, 4, 5, 6, 7, 8, 9, 10, 11], inplace = True)\n",
    "bank_df_raw.contact.replace(['unknown', 'cellular', 'telephone'], [0, 1, 2], inplace = True)\n",
    "bank_df_raw.poutcome.replace(['unknown', 'failure', 'other', 'success'], [0, 1, 2, 3], inplace = True)\n",
    "bank_df_raw.pdays[bank_df_raw.pdays == -1] = max(bank_df_raw.pdays)\n",
    "\n",
    "bank_df_raw.replace(['no', 'yes'], [0, 1], inplace =True)\n",
    "print(bank_df_raw.head())"
   ]
  },
  {
   "cell_type": "markdown",
   "metadata": {},
   "source": [
    "one hot encoding"
   ]
  },
  {
   "cell_type": "code",
   "execution_count": 49,
   "metadata": {},
   "outputs": [
    {
     "name": "stdout",
     "output_type": "stream",
     "text": [
      "(45211, 81)\n"
     ]
    }
   ],
   "source": [
    "job_dummies = pd.get_dummies(bank_df_raw.job, prefix='job', drop_first= True)\n",
    "marital_dummies = pd.get_dummies(bank_df_raw.marital, prefix='marital', drop_first= True)\n",
    "education_dummies = pd.get_dummies(bank_df_raw.education, prefix='education', drop_first= True)\n",
    "month_dummies = pd.get_dummies(bank_df_raw.month, prefix='month', drop_first= True)\n",
    "contact_dummies = pd.get_dummies(bank_df_raw.contact, prefix='contact', drop_first= True)\n",
    "poutcome_dummies = pd.get_dummies(bank_df_raw.poutcome, prefix='poutcome', drop_first= True)\n",
    "\n",
    "bank_df_raw = pd.concat([bank_df_raw, job_dummies, marital_dummies, education_dummies,\n",
    "                        month_dummies, contact_dummies, poutcome_dummies], axis=1)\n",
    "\n",
    "\n",
    "job_col = list(job_dummies.columns)\n",
    "marital_col = list(marital_dummies.columns)\n",
    "education_col = list(education_dummies.columns)\n",
    "month_col = list(month_dummies.columns)\n",
    "contact_col = list(contact_dummies.columns)\n",
    "poutcome_col = list(poutcome_dummies.columns)\n",
    "\n",
    "print(bank_df_raw.shape)"
   ]
  },
  {
   "cell_type": "code",
   "execution_count": 50,
   "metadata": {},
   "outputs": [
    {
     "name": "stdout",
     "output_type": "stream",
     "text": [
      "['y', 'age', 'default', 'balance', 'housing', 'loan', 'month', 'duration', 'pdays', 'previous', 'job_1', 'job_2', 'job_3', 'job_4', 'job_5', 'job_6', 'job_7', 'job_8', 'job_9', 'job_10', 'job_11', 'marital_1', 'marital_2', 'education_1', 'education_2', 'education_3', 'month_1', 'month_2', 'month_3', 'month_4', 'month_5', 'month_6', 'month_7', 'month_8', 'month_9', 'month_10', 'month_11', 'contact_1', 'contact_2', 'poutcome_1', 'poutcome_2', 'poutcome_3'] 42\n",
      "(45211, 74)\n"
     ]
    }
   ],
   "source": [
    "# 사용할 데이터들만 묶어서 정리\n",
    "bank_new_col = ['y', 'age', 'default', 'balance', 'housing', 'loan', 'month', 'duration', 'pdays', 'previous'] + \\\n",
    "                job_col + marital_col + education_col + month_col + contact_col + poutcome_col\n",
    "print(bank_new_col, len(bank_new_col))\n",
    "\n",
    "bank_new = np.asarray(bank_df_raw[bank_new_col])\n",
    "print( bank_new.shape)"
   ]
  },
  {
   "cell_type": "markdown",
   "metadata": {},
   "source": [
    "Train & Test set"
   ]
  },
  {
   "cell_type": "code",
   "execution_count": 77,
   "metadata": {},
   "outputs": [
    {
     "name": "stdout",
     "output_type": "stream",
     "text": [
      "Row num :  45211 Column num :  74\n",
      "(31647, 73) (31647,) (13564, 73) (13564,)\n"
     ]
    }
   ],
   "source": [
    "np.random.seed(982)\n",
    "np.random.shuffle(bank_new)\n",
    "# print(bank_new[:10,:])\n",
    "\n",
    "nRows, nCols = bank_new.shape\n",
    "print ('Row num : ',nRows, 'Column num : ', nCols)\n",
    "fTrain_ratio = 0.7 # train set's raito\n",
    "\n",
    "Tr,Te = bank_new[:int(nRows*fTrain_ratio),:], bank_new[int(nRows*fTrain_ratio):,:]\n",
    "Tr_X, Tr_Y = Tr[:,1:], Tr[:,0]\n",
    "Te_X, Te_Y = Te[:,1:], Te[:,0]\n",
    "\n",
    "print(Tr_X.shape, Tr_Y.shape, Te_X.shape, Te_Y.shape)"
   ]
  },
  {
   "cell_type": "markdown",
   "metadata": {},
   "source": [
    "# ~2~"
   ]
  },
  {
   "cell_type": "markdown",
   "metadata": {},
   "source": [
    "Learning"
   ]
  },
  {
   "cell_type": "code",
   "execution_count": 1,
   "metadata": {},
   "outputs": [
    {
     "ename": "NameError",
     "evalue": "name 'Tr_X' is not defined",
     "output_type": "error",
     "traceback": [
      "\u001b[0;31m---------------------------------------------------------------------------\u001b[0m",
      "\u001b[0;31mNameError\u001b[0m                                 Traceback (most recent call last)",
      "\u001b[0;32m<ipython-input-1-7f8adc20e273>\u001b[0m in \u001b[0;36m<module>\u001b[0;34m()\u001b[0m\n\u001b[1;32m      3\u001b[0m \u001b[0;34m\u001b[0m\u001b[0m\n\u001b[1;32m      4\u001b[0m \u001b[0mclf\u001b[0m \u001b[0;34m=\u001b[0m \u001b[0mlinear_model\u001b[0m\u001b[0;34m.\u001b[0m\u001b[0mLogisticRegression\u001b[0m\u001b[0;34m(\u001b[0m\u001b[0mC\u001b[0m\u001b[0;34m=\u001b[0m\u001b[0;36m1000\u001b[0m\u001b[0;34m)\u001b[0m\u001b[0;34m\u001b[0m\u001b[0m\n\u001b[0;32m----> 5\u001b[0;31m \u001b[0mclf\u001b[0m\u001b[0;34m.\u001b[0m\u001b[0mfit\u001b[0m\u001b[0;34m(\u001b[0m\u001b[0mTr_X\u001b[0m\u001b[0;34m,\u001b[0m \u001b[0mTr_Y\u001b[0m\u001b[0;34m)\u001b[0m \u001b[0;31m# fit\u001b[0m\u001b[0;34m\u001b[0m\u001b[0m\n\u001b[0m",
      "\u001b[0;31mNameError\u001b[0m: name 'Tr_X' is not defined"
     ]
    }
   ],
   "source": [
    "# fit logistic regression\n",
    "from sklearn import linear_model\n",
    "\n",
    "clf = linear_model.LogisticRegression(C=1000)\n",
    "clf.fit(Tr_X, Tr_Y) # fit\n",
    "\n",
    "\n",
    "# # fit a classification tree with max_depth=3 on all data\n",
    "# from sklearn.tree import DecisionTreeClassifier\n",
    "\n",
    "# # clf = DecisionTreeClassifier(class_weight = None, criterion='gini')\n",
    "# clf = DecisionTreeClassifier(class_weight ='balanced', max_depth = 7, max_features = 'sqrt', criterion='entropy')\n",
    "# clf.fit(Tr_X, Tr_Y) # fit\n",
    "\n",
    "\n",
    "# from sklearn.ensemble import RandomForestClassifier\n",
    "\n",
    "# # clf = RandomForestClassifier(max_depth = 5)\n",
    "# clf = RandomForestClassifier(class_weight ='balanced', max_depth = 7, max_features = 'sqrt', criterion='entropy',\n",
    "#                               n_estimators = 200)\n",
    "# clf.fit(Tr_X, Tr_Y) # fit\n",
    "\n",
    "\n",
    "# from sklearn.ensemble import GradientBoostingClassifier \n",
    "\n",
    "# # clf = GradientBoostingClassifier(learning_rate = 0.1, max_features = 'sqrt', random_state = 1)\n",
    "# clf = GradientBoostingClassifier(max_depth = 7, max_features = 'sqrt', \n",
    "#                                     n_estimators = 200, learning_rate = 0.2, min_samples_split = 3)\n",
    "# clf.fit(Tr_X, Tr_Y) # fit"
   ]
  },
  {
   "cell_type": "code",
   "execution_count": null,
   "metadata": {},
   "outputs": [],
   "source": [
    "# logistic일 경우\n",
    "coef_order = abs(clf.coef_).argsort()[0][::-1]\n",
    "for i in coef_order:\n",
    "    print(bank_new_col[i+1], \"\\t\", round(clf.coef_[0,i], 3))\n",
    "\n",
    "# # 나머지일 경우\n",
    "# coef_order = clf.feature_importances_.argsort()[::-1]\n",
    "# for i in coef_order:\n",
    "#     print(bank_new_col[i+1], \"\\t\", round(clf.feature_importances_[i], 3))\n",
    "\n"
   ]
  },
  {
   "cell_type": "markdown",
   "metadata": {},
   "source": [
    "confusion matrix"
   ]
  },
  {
   "cell_type": "code",
   "execution_count": 89,
   "metadata": {},
   "outputs": [
    {
     "name": "stdout",
     "output_type": "stream",
     "text": [
      "       0    1\n",
      "0  11669  293\n",
      "1   1059  543\n"
     ]
    }
   ],
   "source": [
    "from sklearn.metrics import confusion_matrix\n",
    "import pandas as pd\n",
    "\n",
    "y_true = Te_Y\n",
    "y_pred = clf.predict(Te_X)\n",
    "\n",
    "cf_matrix = confusion_matrix(y_true, y_pred)\n",
    "print(pd.DataFrame(cf_matrix, columns = ['0', '1'], index = ['0', '1']))"
   ]
  },
  {
   "cell_type": "code",
   "execution_count": 90,
   "metadata": {},
   "outputs": [
    {
     "name": "stdout",
     "output_type": "stream",
     "text": [
      "Precision = 0.5692832764505119\n",
      "recall    = 0.5205992509363296\n",
      "       0    1\n",
      "0  11331  631\n",
      "1    768  834\n"
     ]
    },
    {
     "data": {
      "text/plain": [
       "array([[11331,   631],\n",
       "       [  768,   834]])"
      ]
     },
     "execution_count": 90,
     "metadata": {},
     "output_type": "execute_result"
    }
   ],
   "source": [
    "def FUN_cf_matrix(y_tr, Te_X, clf, cutoff = 0.5):\n",
    "    y_pr_list = list()\n",
    "    prob_list = clf.predict_proba(Te_X)[:,1]\n",
    "    for i in range(prob_list.shape[0]):\n",
    "        if prob_list[i] >= cutoff: y_pr_list.append(1)\n",
    "        else: y_pr_list.append(0)\n",
    "    y_pr = np.asarray(y_pr_list)\n",
    "    \n",
    "    cf_matrix = confusion_matrix(y_tr, y_pr)   \n",
    "    print('Precision =', cf_matrix[1,1]/(cf_matrix[0,1]+cf_matrix[1,1]))\n",
    "    print('recall    =', cf_matrix[1,1]/(cf_matrix[1,0]+cf_matrix[1,1]))\n",
    "    print(pd.DataFrame(cf_matrix, columns = ['0', '1'], index = ['0', '1']))\n",
    "    return cf_matrix\n",
    "\n",
    "FUN_cf_matrix(Te_Y, Te_X, clf, cutoff = 0.3)"
   ]
  },
  {
   "cell_type": "markdown",
   "metadata": {},
   "source": [
    "precision recall curve"
   ]
  },
  {
   "cell_type": "code",
   "execution_count": 91,
   "metadata": {},
   "outputs": [
    {
     "data": {
      "image/png": "[encoded data removed]",
      "text/plain": [
       "<matplotlib.figure.Figure at 0x7fa2d4529828>"
      ]
     },
     "metadata": {},
     "output_type": "display_data"
    }
   ],
   "source": [
    "from sklearn.metrics import precision_recall_curve, average_precision_score\n",
    "import matplotlib.pyplot as plt\n",
    "\n",
    "fAUPRC = average_precision_score(y_true=y_true, y_score= clf.predict(Te_X))\n",
    "precision, recall, _ = precision_recall_curve(y_true, clf.predict(Te_X)) \n",
    "\n",
    "plt.figure()\n",
    "plt.plot(recall, precision, color='darkorange',lw=2, label='PR curve (area = %0.5f)' % fAUPRC)\n",
    "plt.plot([0, 1.05], [0, 1.05], color='navy', lw=2, linestyle='--')\n",
    "plt.xlim([0, 1.05]) # range for x-axis\n",
    "plt.ylim([0.0, 1.05])   # range for y-axis\n",
    "plt.xlabel('Precision')\n",
    "plt.ylabel('Recall')\n",
    "plt.title('Precision-Recall Curve')\n",
    "plt.legend(loc=\"lower right\")\n",
    "plt.show()\n",
    "plt.close()"
   ]
  },
  {
   "cell_type": "markdown",
   "metadata": {},
   "source": [
    "ROC curve"
   ]
  },
  {
   "cell_type": "code",
   "execution_count": 92,
   "metadata": {},
   "outputs": [
    {
     "name": "stdout",
     "output_type": "stream",
     "text": [
      "AUROC =  0.6572285395637997\n"
     ]
    },
    {
     "data": {
      "image/png": "[encoded data removed]",
      "text/plain": [
       "<matplotlib.figure.Figure at 0x7fa2d44f1a58>"
      ]
     },
     "metadata": {},
     "output_type": "display_data"
    }
   ],
   "source": [
    "from sklearn.metrics import roc_auc_score\n",
    "from sklearn.metrics import roc_curve\n",
    "\n",
    "logit_roc_auc = roc_auc_score(Te_Y, clf.predict(Te_X))\n",
    "fpr, tpr, thresholds = roc_curve(Te_Y, clf.predict_proba(Te_X)[:,1])\n",
    "\n",
    "print('AUROC = ', logit_roc_auc)\n",
    "plt.figure()\n",
    "plt.plot(fpr, tpr, label='Logistic Regression (area=%0.2f)' %logit_roc_auc)\n",
    "plt.plot([0,1],[0,1],'r--')\n",
    "\n",
    "plt.title('ROC')\n",
    "plt.xlabel('False Positive Rate')\n",
    "plt.ylabel('True Positive Rate')\n",
    "plt.legend(loc=\"lower right\")\n",
    "\n",
    "plt.show()"
   ]
  },
  {
   "cell_type": "markdown",
   "metadata": {},
   "source": [
    "Lift"
   ]
  },
  {
   "cell_type": "code",
   "execution_count": 106,
   "metadata": {},
   "outputs": [
    {
     "data": {
      "text/html": [
       "<div>\n",
       "<style scoped>\n",
       "    .dataframe tbody tr th:only-of-type {\n",
       "        vertical-align: middle;\n",
       "    }\n",
       "\n",
       "    .dataframe tbody tr th {\n",
       "        vertical-align: top;\n",
       "    }\n",
       "\n",
       "    .dataframe thead th {\n",
       "        text-align: right;\n",
       "    }\n",
       "</style>\n",
       "<table border=\"1\" class=\"dataframe\">\n",
       "  <thead>\n",
       "    <tr style=\"text-align: right;\">\n",
       "      <th></th>\n",
       "      <th>predict_proba</th>\n",
       "      <th>y_real</th>\n",
       "      <th>rank</th>\n",
       "      <th>rank_perc</th>\n",
       "      <th>cum_y</th>\n",
       "      <th>cum_y_rate</th>\n",
       "      <th>cum_lift</th>\n",
       "    </tr>\n",
       "  </thead>\n",
       "  <tbody>\n",
       "    <tr>\n",
       "      <th>0</th>\n",
       "      <td>1.000000</td>\n",
       "      <td>0.0</td>\n",
       "      <td>1.0</td>\n",
       "      <td>0.000074</td>\n",
       "      <td>0.0</td>\n",
       "      <td>0.000000</td>\n",
       "      <td>0.000000</td>\n",
       "    </tr>\n",
       "    <tr>\n",
       "      <th>1</th>\n",
       "      <td>0.999996</td>\n",
       "      <td>1.0</td>\n",
       "      <td>2.0</td>\n",
       "      <td>0.000147</td>\n",
       "      <td>1.0</td>\n",
       "      <td>0.500000</td>\n",
       "      <td>4.233458</td>\n",
       "    </tr>\n",
       "    <tr>\n",
       "      <th>2</th>\n",
       "      <td>0.999993</td>\n",
       "      <td>0.0</td>\n",
       "      <td>3.0</td>\n",
       "      <td>0.000221</td>\n",
       "      <td>1.0</td>\n",
       "      <td>0.333333</td>\n",
       "      <td>2.822305</td>\n",
       "    </tr>\n",
       "    <tr>\n",
       "      <th>3</th>\n",
       "      <td>0.999984</td>\n",
       "      <td>0.0</td>\n",
       "      <td>4.0</td>\n",
       "      <td>0.000295</td>\n",
       "      <td>1.0</td>\n",
       "      <td>0.250000</td>\n",
       "      <td>2.116729</td>\n",
       "    </tr>\n",
       "    <tr>\n",
       "      <th>4</th>\n",
       "      <td>0.999971</td>\n",
       "      <td>0.0</td>\n",
       "      <td>5.0</td>\n",
       "      <td>0.000369</td>\n",
       "      <td>1.0</td>\n",
       "      <td>0.200000</td>\n",
       "      <td>1.693383</td>\n",
       "    </tr>\n",
       "  </tbody>\n",
       "</table>\n",
       "</div>"
      ],
      "text/plain": [
       "   predict_proba  y_real  rank  rank_perc  cum_y  cum_y_rate  cum_lift\n",
       "0       1.000000     0.0   1.0   0.000074    0.0    0.000000  0.000000\n",
       "1       0.999996     1.0   2.0   0.000147    1.0    0.500000  4.233458\n",
       "2       0.999993     0.0   3.0   0.000221    1.0    0.333333  2.822305\n",
       "3       0.999984     0.0   4.0   0.000295    1.0    0.250000  2.116729\n",
       "4       0.999971     0.0   5.0   0.000369    1.0    0.200000  1.693383"
      ]
     },
     "execution_count": 106,
     "metadata": {},
     "output_type": "execute_result"
    }
   ],
   "source": [
    "\n",
    "data = np.concatenate( (clf.predict_proba(Te_X)[:,1].reshape(-1,1), Te_Y.reshape(-1,1)), axis=1 )\n",
    "features = ['predict_proba', 'y_real']\n",
    "df_lift = pd.DataFrame(data, columns = features)\n",
    "df_lift.sort_values(by = 'predict_proba', ascending=False, inplace=True)\n",
    "df_lift.index = list(range(df_lift.shape[0]))\n",
    "df_lift['rank'] = df_lift['predict_proba'].rank(method='first', ascending=0)\n",
    "df_lift['rank_perc'] = df_lift['rank']/df_lift['rank'].max()\n",
    "df_lift['cum_y'] = df_lift['y_real'].cumsum()\n",
    "df_lift['cum_y_rate'] = df_lift['cum_y'] / df_lift['rank']\n",
    "df_lift['cum_lift'] = df_lift['cum_y_rate'] / df_lift['cum_y_rate'][df_lift.shape[0]-1]\n",
    "df_lift.head()\n"
   ]
  },
  {
   "cell_type": "code",
   "execution_count": 107,
   "metadata": {},
   "outputs": [
    {
     "data": {
      "image/png": "[encoded data removed]",
      "text/plain": [
       "<matplotlib.figure.Figure at 0x7fa2d4482588>"
      ]
     },
     "metadata": {},
     "output_type": "display_data"
    }
   ],
   "source": [
    "plt.plot(df_lift['rank_perc'], df_lift['cum_lift'], label='Lift Value = %0.2f' %df_lift['cum_lift'].max())\n",
    "\n",
    "plt.title('LIFT CURVE')\n",
    "plt.xlabel('False Positive Rate')\n",
    "plt.ylabel('True Positive Rate')\n",
    "\n",
    "plt.show()"
   ]
  }
 ],
 "metadata": {
  "kernelspec": {
   "display_name": "Python 3",
   "language": "python",
   "name": "python3"
  },
  "language_info": {
   "codemirror_mode": {
    "name": "ipython",
    "version": 3
   },
   "file_extension": ".py",
   "mimetype": "text/x-python",
   "name": "python",
   "nbconvert_exporter": "python",
   "pygments_lexer": "ipython3",
   "version": "3.6.4"
  }
 },
 "nbformat": 4,
 "nbformat_minor": 2
}
